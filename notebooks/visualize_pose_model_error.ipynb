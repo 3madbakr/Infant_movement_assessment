{
 "cells": [
  {
   "cell_type": "code",
   "execution_count": null,
   "metadata": {
    "scrolled": true
   },
   "outputs": [],
   "source": [
    "import pandas as pd\n",
    "import numpy as np\n",
    "import seaborn as sns\n",
    "import matplotlib.pyplot as plt\n",
    "\n",
    "model_names = ['original_model','trained_model']\n",
    "data_path = '../data/pose_model/groundtruth_and_predictions.pkl'\n",
    "df = pd.read_pickle(data_path)\n",
    "\n",
    "bbox_df = pd.read_pickle('../data/pose_model/bounding_box_info.pkl')\n",
    "\n",
    "zdf_col = pd.MultiIndex.from_product([['ground_truth'], ['bbox_width', 'bbox_height']])\n",
    "zdf = pd.DataFrame(columns = zdf_col)\n",
    "zdf['ground_truth','bbox_width'] = bbox_df.width\n",
    "zdf['ground_truth','bbox_height'] = bbox_df.height\n",
    "zdf['id',''] = bbox_df.id\n",
    "df = pd.merge(df,zdf, on='id', how='outer')\n",
    "\n",
    "for i in model_names:\n",
    "    df[i, 'x_square_error'] = ((df[i].x - df.ground_truth.x)/df.ground_truth.bbox_width)**2 \n",
    "    df[i, 'y_square_error'] =  ((df[i].y-df.ground_truth.y)/df.ground_truth.bbox_height)**2\n",
    "\n",
    "df = df.sort_index(axis = 1).set_index(['video', 'frame', 'id', 'part_label'])\n",
    "df = df.reset_index()\n",
    "df = df[~df['part_label', ''].isnull()]"
   ]
  },
  {
   "cell_type": "code",
   "execution_count": null,
   "metadata": {},
   "outputs": [],
   "source": [
    "group_by = ['video', 'frame']\n",
    "\n",
    "def compute_metrics(df, model_names):\n",
    "    precision_list = []; recall_list = []; rmse_list = [];\n",
    "    relevant_elements = df.loc[~df.ground_truth.x.isnull(),:]\n",
    "    for i, imodel in enumerate(model_names):\n",
    "        recall =  np.sum(~relevant_elements[imodel].x.isnull())/len(relevant_elements)\n",
    "        selected_items = df.loc[~df[imodel].x.isnull(),:]\n",
    "        precision = np.sum(~selected_items.ground_truth.x.isnull())/len(selected_items)\n",
    "        precision_list.append(precision); recall_list.append(recall)\n",
    "        rmse = np.sqrt(np.nanmean(df[imodel].x_square_error.tolist() + df[imodel].y_square_error.tolist()))\n",
    "        rmse_list.append(rmse)\n",
    "    return pd.DataFrame.from_dict({'model': model_names, 'precision': precision_list, 'recall': recall_list, 'rmse': rmse_list})  \n",
    "\n",
    "performance_metric_df = df.groupby(group_by).apply( lambda x: compute_metrics(x, model_names))\n",
    "performance_metric_df.head()"
   ]
  },
  {
   "cell_type": "code",
   "execution_count": null,
   "metadata": {},
   "outputs": [],
   "source": [
    "zdf = performance_metric_df\n",
    "zdf = pd.pivot_table(zdf, values=['precision','recall', 'rmse'],\\\n",
    "                index=group_by, columns = 'model').reset_index()\n",
    "\n",
    "col = ['_'.join(i).strip() for i in zdf.columns.values]\n",
    "zdf = zdf.dropna()\n",
    "zdf.columns = col\n",
    "zdf['video'] = 'video_'+zdf['video_'].astype(str)\n",
    "\n",
    "sns.scatterplot(data=zdf, hue='video', x='precision_original_model',\\\n",
    "                edgecolor='none',y='precision_trained_model', alpha=.7, palette='Set2')\n",
    "plt.plot([0 ,1], [0,1], color=[0,0,0], ls='--', alpha=.5)\n",
    "plt.legend(bbox_to_anchor= [1,1])\n",
    "plt.show()\n",
    "\n",
    "sns.scatterplot(data=zdf, hue='video', x='recall_original_model',\\\n",
    "                edgecolor='none',y='recall_trained_model', alpha=.7, palette='Set2')\n",
    "plt.plot([0 ,1], [0,1], color=[0,0,0], ls='--', alpha=.5)\n",
    "plt.legend(bbox_to_anchor= [1,1])\n",
    "plt.show()\n",
    "\n",
    "sns.scatterplot(data=zdf, hue='video', x='rmse_original_model',\\\n",
    "                edgecolor='none',y='rmse_trained_model', alpha=.7, palette='Set2')\n",
    "plt.plot([0 ,.6], [0,.6], color=[0,0,0], ls='--', alpha=.5)\n",
    "plt.legend(bbox_to_anchor= [1,1])\n",
    "plt.show()\n",
    "\n",
    "compute_metrics(df, model_names)"
   ]
  },
  {
   "cell_type": "code",
   "execution_count": null,
   "metadata": {},
   "outputs": [],
   "source": []
  }
 ],
 "metadata": {
  "kernelspec": {
   "display_name": "Python 3",
   "language": "python",
   "name": "python3"
  },
  "language_info": {
   "codemirror_mode": {
    "name": "ipython",
    "version": 3
   },
   "file_extension": ".py",
   "mimetype": "text/x-python",
   "name": "python",
   "nbconvert_exporter": "python",
   "pygments_lexer": "ipython3",
   "version": "3.5.2"
  }
 },
 "nbformat": 4,
 "nbformat_minor": 2
}
