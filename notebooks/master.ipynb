{
 "cells": [
  {
   "cell_type": "code",
   "execution_count": 1,
   "metadata": {},
   "outputs": [],
   "source": [
    "import sys\n",
    "sys.path.insert(0,'../src/data')\n",
    "sys.path.insert(0,'../src/modules')\n",
    "import load_pose_data\n",
    "import preprocess_pose_data\n",
    "import build_features"
   ]
  },
  {
   "cell_type": "code",
   "execution_count": null,
   "metadata": {
    "scrolled": true
   },
   "outputs": [],
   "source": [
    "# youtube data: load, preprocess, features\n",
    "\n",
    "data_set = 'youtube'\n",
    "raw_pose_estimates_video_path = '/data2/Johnson_lab_files/openpose_output/YT'\n",
    "\n",
    "load_pose_data.main(data_set, raw_pose_estimates_video_path)\n",
    "preprocess_pose_data.main(data_set)\n",
    "build_features.main(data_set)"
   ]
  },
  {
   "cell_type": "code",
   "execution_count": 5,
   "metadata": {},
   "outputs": [],
   "source": [
    "# clinical data: load, preprocess, features\n",
    "\n",
    "data_set = 'clinical'\n",
    "raw_pose_estimates_video_path = '/data2/Johnson_lab_files/openpose_output/jlab_100918'\n",
    "\n",
    "load_pose_data.main(data_set, raw_pose_estimates_video_path)\n",
    "preprocess_pose_data.main(data_set)\n",
    "build_features.main(data_set)"
   ]
  },
  {
   "cell_type": "code",
   "execution_count": 6,
   "metadata": {},
   "outputs": [],
   "source": [
    "# merge data sets, load meta data\n"
   ]
  },
  {
   "cell_type": "code",
   "execution_count": 8,
   "metadata": {},
   "outputs": [],
   "source": [
    "# compute surprise\n",
    "# features = []\n",
    "\n"
   ]
  },
  {
   "cell_type": "code",
   "execution_count": null,
   "metadata": {},
   "outputs": [],
   "source": [
    "# viz\n"
   ]
  }
 ],
 "metadata": {
  "kernelspec": {
   "display_name": "Python 3",
   "language": "python",
   "name": "python3"
  },
  "language_info": {
   "codemirror_mode": {
    "name": "ipython",
    "version": 3
   },
   "file_extension": ".py",
   "mimetype": "text/x-python",
   "name": "python",
   "nbconvert_exporter": "python",
   "pygments_lexer": "ipython3",
   "version": "3.5.2"
  }
 },
 "nbformat": 4,
 "nbformat_minor": 2
}
