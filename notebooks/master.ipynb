{
 "cells": [
  {
   "cell_type": "code",
   "execution_count": null,
   "metadata": {},
   "outputs": [],
   "source": [
    "import sys\n",
    "sys.path.insert(0,'../src/data')\n",
    "sys.path.insert(0,'../src/modules')\n",
    "sys.path.insert(0,'../src/pose_model')\n",
    "import load_pose_data\n",
    "import preprocess_pose_data\n",
    "import build_features\n",
    "import merge_data_sets\n",
    "import compute_surprise\n",
    "import get_pose_model_predictions_and_groundtruth\n",
    "import os"
   ]
  },
  {
   "cell_type": "code",
   "execution_count": null,
   "metadata": {},
   "outputs": [],
   "source": [
    "# Test pose estimation model: generate predictions from models in ../model folder\n",
    "\n",
    "os.environ[\"CUDA_VISIBLE_DEVICES\"] = \"[1,2]\"\n",
    "get_pose_model_predictions_and_groundtruth.main()"
   ]
  },
  {
   "cell_type": "code",
   "execution_count": null,
   "metadata": {
    "scrolled": true
   },
   "outputs": [],
   "source": [
    "# youtube data: load, preprocess, kinematic features\n",
    "\n",
    "data_set = 'youtube'\n",
    "raw_pose_estimates_video_path = '/data2/Johnson_lab_files/openpose_output/YT'\n",
    "\n",
    "load_pose_data.main(data_set, raw_pose_estimates_video_path)\n",
    "preprocess_pose_data.main(data_set)\n",
    "build_features.main(data_set)"
   ]
  },
  {
   "cell_type": "code",
   "execution_count": null,
   "metadata": {},
   "outputs": [],
   "source": [
    "# clinical data: load, preprocess, kinematic features\n",
    "\n",
    "data_set = 'clinical'\n",
    "raw_pose_estimates_video_path = '/data2/Johnson_lab_files/openpose_output/jlab_100918'\n",
    "\n",
    "load_pose_data.main(data_set, raw_pose_estimates_video_path)\n",
    "preprocess_pose_data.main(data_set)\n",
    "build_features.main(data_set)"
   ]
  },
  {
   "cell_type": "code",
   "execution_count": null,
   "metadata": {},
   "outputs": [],
   "source": [
    "# merge data sets and compute surprise based on features\n",
    "path = '../data/processed/'\n",
    "\n",
    "# merge youtube and clinical data sets\n",
    "merge_data_sets.main()\n",
    "\n",
    "# compute bayes surprise\n",
    "compute_surprise.main(path)\n",
    "\n",
    "# visualizations in notebooks/visualize_results"
   ]
  }
 ],
 "metadata": {
  "kernelspec": {
   "display_name": "Python 3",
   "language": "python",
   "name": "python3"
  },
  "language_info": {
   "codemirror_mode": {
    "name": "ipython",
    "version": 3
   },
   "file_extension": ".py",
   "mimetype": "text/x-python",
   "name": "python",
   "nbconvert_exporter": "python",
   "pygments_lexer": "ipython3",
   "version": "3.5.2"
  }
 },
 "nbformat": 4,
 "nbformat_minor": 2
}
