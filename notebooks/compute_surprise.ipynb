{
 "cells": [
  {
   "cell_type": "code",
   "execution_count": 40,
   "metadata": {},
   "outputs": [],
   "source": [
    "import pandas as pd\n",
    "import os\n",
    "from scipy.stats import norm\n",
    "import numpy as np\n",
    "import scipy as sc\n",
    "import matplotlib.pyplot as plt\n",
    "import seaborn as sns\n"
   ]
  },
  {
   "cell_type": "code",
   "execution_count": 41,
   "metadata": {
    "scrolled": true
   },
   "outputs": [],
   "source": [
    "path = '../data/processed/'\n",
    "features = pd.read_pickle(os.path.join(path,'features_merged.pkl'))\n",
    "\n",
    "ref_stats = pd.DataFrame()\n",
    "ref_stats = features[features.category ==0].groupby(['feature_name','age_bracket', 'part'])['Value']\\\n",
    ".apply(norm.fit).reset_index()\n",
    "ref_stats[['mean_ref', 'sd_ref']] = ref_stats['Value'].apply(pd.Series)\n",
    "ref_stats['var_ref'] = ref_stats['sd_ref']**2\n",
    "ref_stats = ref_stats.reset_index().drop('Value', axis=1)\n",
    "features = pd.merge(features,ref_stats, on=['feature_name','age_bracket', 'part'], how='inner')\n",
    "features['minus_log_pfeature'] = -1*(.5*np.log(2*np.pi*features['var_ref']) + ((features['Value']-features['mean_ref'])**2)/(2*features['var_ref']))\n",
    "features['feature'] = features.part +'_'+ features.feature_name\n",
    "\n",
    "# We will include the following features computed from the positions of the extremities (wrists/ankles) and joint angles (elbows/knees):\n",
    "# - absolute position/angle\n",
    "# - variability of position/angle\n",
    "# - median speed\n",
    "# - variability of speed\n",
    "# - median absolute velocity\n",
    "# - variability of velocity\n",
    "# - variability of acceleration\n",
    "# - measure of complexity (entropy)\n",
    "# - measure of symmetry (left-right cross correlation)\n",
    "\n",
    "feature_list = ['Ankle_mediandist','Wrist_mediandist','Knee_mean_angle','Elbow_mean_angle',\\\n",
    "                'Ankle_IQRdist', 'Wrist_IQRdist','Knee_variance_angle', 'Elbow_variance_angle',\\\n",
    "                'Ankle_medianspeed','Wrist_medianspeed',\\\n",
    "                'Ankle_IQRspeed', 'Wrist_IQRspeed',\\\n",
    "                'Ankle_medianvel','Wrist_medianvel','Knee_median_vel_angle','Elbow_median_vel_angle',\\\n",
    "                'Ankle_IQRvel','Wrist_IQRvel','Knee_IQR_vel_angle','Elbow_IQR_vel_angle',\\\n",
    "                'Ankle_IQRacc','Wrist_IQRacc','Knee_IQR_acc_angle','Elbow_IQR_acc_angle',\\\n",
    "                'Ankle_meanent', 'Wrist_meanent','Knee_entropy_angle', 'Elbow_entropy_angle',\\\n",
    "                'Ankle_lrCorr_x', 'Wrist_lrCorr_x', 'Knee_entropy_angle','Elbow_entropy_angle']\n",
    "\n",
    "features = features.loc[np.isin(features.feature, feature_list)]\n",
    "\n",
    "surprise = features.groupby(['infant', 'age_in_weeks','risk', 'age_bracket', 'category'])['minus_log_pfeature'].sum().reset_index()\n",
    "surprise['z'] = (surprise['minus_log_pfeature'] - surprise.loc[surprise.risk==0, 'minus_log_pfeature'].mean())/surprise.loc[surprise.risk==0,'minus_log_pfeature'].std()\n",
    "surprise['p'] =(sc.stats.norm.sf(np.abs(surprise['z']))*2).round(3)\n",
    "surprise.to_pickle(os.path.join(path, 'bayes_surprise.pkl'))\n",
    "features.to_pickle(os.path.join(path, 'final_feature_set.pkl'))"
   ]
  }
 ],
 "metadata": {
  "kernelspec": {
   "display_name": "Python 3",
   "language": "python",
   "name": "python3"
  },
  "language_info": {
   "codemirror_mode": {
    "name": "ipython",
    "version": 3
   },
   "file_extension": ".py",
   "mimetype": "text/x-python",
   "name": "python",
   "nbconvert_exporter": "python",
   "pygments_lexer": "ipython3",
   "version": "3.5.2"
  }
 },
 "nbformat": 4,
 "nbformat_minor": 2
}
