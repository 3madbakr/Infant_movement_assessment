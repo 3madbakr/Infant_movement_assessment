{
 "cells": [
  {
   "cell_type": "code",
   "execution_count": null,
   "metadata": {},
   "outputs": [],
   "source": [
    "import pandas as pd\n",
    "import os\n",
    "from scipy.stats import norm\n",
    "import numpy as np\n",
    "import scipy as sc\n",
    "import matplotlib.pyplot as plt\n",
    "import seaborn as sns"
   ]
  },
  {
   "cell_type": "code",
   "execution_count": null,
   "metadata": {},
   "outputs": [],
   "source": [
    "path = '../data/processed/'\n",
    "\n",
    "surprise = pd.read_pickle(os.path.join(path, 'bayes_surprise.pkl'))\n",
    "features = pd.read_pickle(os.path.join(path, 'final_feature_set.pkl'))"
   ]
  },
  {
   "cell_type": "code",
   "execution_count": null,
   "metadata": {},
   "outputs": [],
   "source": [
    "# bayes surprise by group\n",
    "\n",
    "plt.rc('figure', figsize=(5,5))\n",
    "sns.pointplot(x=\"risk\", y=\"z\", data=surprise, join=False, color=[.3,.3,.3],zorder=100, estimator=np.mean)\n",
    "sns.swarmplot(x=\"risk\", y=\"z\", data=surprise, alpha=.5, dodge=True,zorder=1)\n",
    "plt.plot([-.5,6], [-2]*2, alpha=.5,color=[0,0,0])\n",
    "plt.ylabel('z')\n",
    "plt.xticks(np.arange(4),('YouTube', 'Low Risk', 'Moderate Risk', 'High Risk'))\n",
    "plt.xlabel('Category')\n",
    "\n",
    "plt.show()"
   ]
  },
  {
   "cell_type": "code",
   "execution_count": null,
   "metadata": {},
   "outputs": [],
   "source": [
    "# feature plot (age by z by group)"
   ]
  },
  {
   "cell_type": "code",
   "execution_count": null,
   "metadata": {},
   "outputs": [],
   "source": [
    "# feature plots for individual subjects"
   ]
  },
  {
   "cell_type": "code",
   "execution_count": null,
   "metadata": {},
   "outputs": [],
   "source": [
    "# plot z by feature"
   ]
  },
  {
   "cell_type": "code",
   "execution_count": null,
   "metadata": {},
   "outputs": [],
   "source": []
  }
 ],
 "metadata": {
  "kernelspec": {
   "display_name": "Python 3",
   "language": "python",
   "name": "python3"
  },
  "language_info": {
   "codemirror_mode": {
    "name": "ipython",
    "version": 3
   },
   "file_extension": ".py",
   "mimetype": "text/x-python",
   "name": "python",
   "nbconvert_exporter": "python",
   "pygments_lexer": "ipython3",
   "version": "3.5.2"
  }
 },
 "nbformat": 4,
 "nbformat_minor": 2
}
